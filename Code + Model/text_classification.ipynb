{
  "cells": [
    {
      "cell_type": "markdown",
      "metadata": {
        "id": "Po0PgqfHrP5c"
      },
      "source": [
        "Kết nối Google Drive"
      ]
    },
    {
      "cell_type": "code",
      "execution_count": 27,
      "metadata": {
        "colab": {
          "base_uri": "https://localhost:8080/"
        },
        "id": "E35iWb-rGzUV",
        "outputId": "72f78136-6ca8-466f-b887-17c38b25ea44"
      },
      "outputs": [
        {
          "output_type": "stream",
          "name": "stdout",
          "text": [
            "Drive already mounted at /content/drive/; to attempt to forcibly remount, call drive.mount(\"/content/drive/\", force_remount=True).\n"
          ]
        }
      ],
      "source": [
        "from google.colab import drive\n",
        "drive.mount('/content/drive/')"
      ]
    },
    {
      "cell_type": "markdown",
      "metadata": {
        "id": "mvQ_Apc8rb_P"
      },
      "source": [
        "Trỏ vào tệp Đồ án, chú ý đường dẫn."
      ]
    },
    {
      "cell_type": "code",
      "execution_count": 20,
      "metadata": {
        "colab": {
          "base_uri": "https://localhost:8080/"
        },
        "id": "6BRDqXp9M134",
        "outputId": "bce0ddb8-db81-493c-89dd-64c0aa4ed417"
      },
      "outputs": [
        {
          "output_type": "stream",
          "name": "stdout",
          "text": [
            "/content/drive/MyDrive/vietnamese-text-classify-master/vietnamese-text-classify-master\n"
          ]
        }
      ],
      "source": [
        "cd /content/drive/MyDrive/vietnamese-text-classify-master/vietnamese-text-classify-master"
      ]
    },
    {
      "cell_type": "markdown",
      "metadata": {
        "id": "dRIP_-wOrjaz"
      },
      "source": [
        "**Xoá các tệp không cần thiết**"
      ]
    },
    {
      "cell_type": "code",
      "execution_count": 29,
      "metadata": {
        "colab": {
          "base_uri": "https://localhost:8080/"
        },
        "id": "rZK-NtAGOyfv",
        "outputId": "b6d34ce1-9dcb-46d5-a4d8-0be08e2d2928"
      },
      "outputs": [
        {
          "output_type": "stream",
          "name": "stdout",
          "text": [
            "\u001b[33mWARNING: No matching packages\u001b[0m\u001b[33m\n",
            "\u001b[0mFiles removed: 0\n"
          ]
        }
      ],
      "source": [
        "!pip cache purge"
      ]
    },
    {
      "cell_type": "markdown",
      "metadata": {
        "id": "-90X7AZ_rsRf"
      },
      "source": [
        "Tải các thư viện và tài nguyên cần thiết."
      ]
    },
    {
      "cell_type": "code",
      "execution_count": 30,
      "metadata": {
        "colab": {
          "base_uri": "https://localhost:8080/",
          "height": 1000
        },
        "id": "45QbbG3RMxQj",
        "outputId": "fb89bf5a-60e4-413d-a2bd-9dbe96998f27"
      },
      "outputs": [
        {
          "output_type": "stream",
          "name": "stdout",
          "text": [
            "Requirement already satisfied: gensim==4.3.3 in /usr/local/lib/python3.11/dist-packages (from -r requirements.txt (line 1)) (4.3.3)\n",
            "Requirement already satisfied: numpy==1.26.4 in /usr/local/lib/python3.11/dist-packages (from -r requirements.txt (line 2)) (1.26.4)\n",
            "Requirement already satisfied: nltk==3.9.1 in /usr/local/lib/python3.11/dist-packages (from -r requirements.txt (line 3)) (3.9.1)\n",
            "Requirement already satisfied: keras==3.8.0 in /usr/local/lib/python3.11/dist-packages (from -r requirements.txt (line 4)) (3.8.0)\n",
            "Requirement already satisfied: tensorflow==2.18.0 in /usr/local/lib/python3.11/dist-packages (from -r requirements.txt (line 5)) (2.18.0)\n",
            "Requirement already satisfied: pyvi==0.1.1 in /usr/local/lib/python3.11/dist-packages (from -r requirements.txt (line 6)) (0.1.1)\n",
            "Requirement already satisfied: unidecode==1.4.0 in /usr/local/lib/python3.11/dist-packages (from -r requirements.txt (line 7)) (1.4.0)\n",
            "Requirement already satisfied: tqdm==4.67.1 in /usr/local/lib/python3.11/dist-packages (from -r requirements.txt (line 8)) (4.67.1)\n",
            "Requirement already satisfied: scipy<1.14.0,>=1.7.0 in /usr/local/lib/python3.11/dist-packages (from gensim==4.3.3->-r requirements.txt (line 1)) (1.12.0)\n",
            "Requirement already satisfied: smart-open>=1.8.1 in /usr/local/lib/python3.11/dist-packages (from gensim==4.3.3->-r requirements.txt (line 1)) (7.1.0)\n",
            "Requirement already satisfied: click in /usr/local/lib/python3.11/dist-packages (from nltk==3.9.1->-r requirements.txt (line 3)) (8.2.1)\n",
            "Requirement already satisfied: joblib in /usr/local/lib/python3.11/dist-packages (from nltk==3.9.1->-r requirements.txt (line 3)) (1.5.1)\n",
            "Requirement already satisfied: regex>=2021.8.3 in /usr/local/lib/python3.11/dist-packages (from nltk==3.9.1->-r requirements.txt (line 3)) (2024.11.6)\n",
            "Requirement already satisfied: absl-py in /usr/local/lib/python3.11/dist-packages (from keras==3.8.0->-r requirements.txt (line 4)) (1.4.0)\n",
            "Requirement already satisfied: rich in /usr/local/lib/python3.11/dist-packages (from keras==3.8.0->-r requirements.txt (line 4)) (13.9.4)\n",
            "Requirement already satisfied: namex in /usr/local/lib/python3.11/dist-packages (from keras==3.8.0->-r requirements.txt (line 4)) (0.1.0)\n",
            "Requirement already satisfied: h5py in /usr/local/lib/python3.11/dist-packages (from keras==3.8.0->-r requirements.txt (line 4)) (3.13.0)\n",
            "Requirement already satisfied: optree in /usr/local/lib/python3.11/dist-packages (from keras==3.8.0->-r requirements.txt (line 4)) (0.16.0)\n",
            "Requirement already satisfied: ml-dtypes in /usr/local/lib/python3.11/dist-packages (from keras==3.8.0->-r requirements.txt (line 4)) (0.4.1)\n",
            "Requirement already satisfied: packaging in /usr/local/lib/python3.11/dist-packages (from keras==3.8.0->-r requirements.txt (line 4)) (24.2)\n",
            "Requirement already satisfied: astunparse>=1.6.0 in /usr/local/lib/python3.11/dist-packages (from tensorflow==2.18.0->-r requirements.txt (line 5)) (1.6.3)\n",
            "Requirement already satisfied: flatbuffers>=24.3.25 in /usr/local/lib/python3.11/dist-packages (from tensorflow==2.18.0->-r requirements.txt (line 5)) (25.2.10)\n",
            "Requirement already satisfied: gast!=0.5.0,!=0.5.1,!=0.5.2,>=0.2.1 in /usr/local/lib/python3.11/dist-packages (from tensorflow==2.18.0->-r requirements.txt (line 5)) (0.6.0)\n",
            "Requirement already satisfied: google-pasta>=0.1.1 in /usr/local/lib/python3.11/dist-packages (from tensorflow==2.18.0->-r requirements.txt (line 5)) (0.2.0)\n",
            "Requirement already satisfied: libclang>=13.0.0 in /usr/local/lib/python3.11/dist-packages (from tensorflow==2.18.0->-r requirements.txt (line 5)) (18.1.1)\n",
            "Requirement already satisfied: opt-einsum>=2.3.2 in /usr/local/lib/python3.11/dist-packages (from tensorflow==2.18.0->-r requirements.txt (line 5)) (3.4.0)\n",
            "Requirement already satisfied: protobuf!=4.21.0,!=4.21.1,!=4.21.2,!=4.21.3,!=4.21.4,!=4.21.5,<6.0.0dev,>=3.20.3 in /usr/local/lib/python3.11/dist-packages (from tensorflow==2.18.0->-r requirements.txt (line 5)) (5.29.5)\n",
            "Requirement already satisfied: requests<3,>=2.21.0 in /usr/local/lib/python3.11/dist-packages (from tensorflow==2.18.0->-r requirements.txt (line 5)) (2.32.3)\n",
            "Requirement already satisfied: setuptools in /usr/local/lib/python3.11/dist-packages (from tensorflow==2.18.0->-r requirements.txt (line 5)) (75.2.0)\n",
            "Requirement already satisfied: six>=1.12.0 in /usr/local/lib/python3.11/dist-packages (from tensorflow==2.18.0->-r requirements.txt (line 5)) (1.17.0)\n",
            "Requirement already satisfied: termcolor>=1.1.0 in /usr/local/lib/python3.11/dist-packages (from tensorflow==2.18.0->-r requirements.txt (line 5)) (3.1.0)\n",
            "Requirement already satisfied: typing-extensions>=3.6.6 in /usr/local/lib/python3.11/dist-packages (from tensorflow==2.18.0->-r requirements.txt (line 5)) (4.14.0)\n",
            "Requirement already satisfied: wrapt>=1.11.0 in /usr/local/lib/python3.11/dist-packages (from tensorflow==2.18.0->-r requirements.txt (line 5)) (1.17.2)\n",
            "Requirement already satisfied: grpcio<2.0,>=1.24.3 in /usr/local/lib/python3.11/dist-packages (from tensorflow==2.18.0->-r requirements.txt (line 5)) (1.72.1)\n",
            "Requirement already satisfied: tensorboard<2.19,>=2.18 in /usr/local/lib/python3.11/dist-packages (from tensorflow==2.18.0->-r requirements.txt (line 5)) (2.18.0)\n",
            "Requirement already satisfied: tensorflow-io-gcs-filesystem>=0.23.1 in /usr/local/lib/python3.11/dist-packages (from tensorflow==2.18.0->-r requirements.txt (line 5)) (0.37.1)\n",
            "Requirement already satisfied: scikit-learn in /usr/local/lib/python3.11/dist-packages (from pyvi==0.1.1->-r requirements.txt (line 6)) (1.6.1)\n",
            "Requirement already satisfied: sklearn-crfsuite in /usr/local/lib/python3.11/dist-packages (from pyvi==0.1.1->-r requirements.txt (line 6)) (0.5.0)\n",
            "Requirement already satisfied: wheel<1.0,>=0.23.0 in /usr/local/lib/python3.11/dist-packages (from astunparse>=1.6.0->tensorflow==2.18.0->-r requirements.txt (line 5)) (0.45.1)\n",
            "Requirement already satisfied: charset-normalizer<4,>=2 in /usr/local/lib/python3.11/dist-packages (from requests<3,>=2.21.0->tensorflow==2.18.0->-r requirements.txt (line 5)) (3.4.2)\n",
            "Requirement already satisfied: idna<4,>=2.5 in /usr/local/lib/python3.11/dist-packages (from requests<3,>=2.21.0->tensorflow==2.18.0->-r requirements.txt (line 5)) (3.10)\n",
            "Requirement already satisfied: urllib3<3,>=1.21.1 in /usr/local/lib/python3.11/dist-packages (from requests<3,>=2.21.0->tensorflow==2.18.0->-r requirements.txt (line 5)) (2.4.0)\n",
            "Requirement already satisfied: certifi>=2017.4.17 in /usr/local/lib/python3.11/dist-packages (from requests<3,>=2.21.0->tensorflow==2.18.0->-r requirements.txt (line 5)) (2025.4.26)\n",
            "Requirement already satisfied: markdown>=2.6.8 in /usr/local/lib/python3.11/dist-packages (from tensorboard<2.19,>=2.18->tensorflow==2.18.0->-r requirements.txt (line 5)) (3.8)\n",
            "Requirement already satisfied: tensorboard-data-server<0.8.0,>=0.7.0 in /usr/local/lib/python3.11/dist-packages (from tensorboard<2.19,>=2.18->tensorflow==2.18.0->-r requirements.txt (line 5)) (0.7.2)\n",
            "Requirement already satisfied: werkzeug>=1.0.1 in /usr/local/lib/python3.11/dist-packages (from tensorboard<2.19,>=2.18->tensorflow==2.18.0->-r requirements.txt (line 5)) (3.1.3)\n",
            "Requirement already satisfied: markdown-it-py>=2.2.0 in /usr/local/lib/python3.11/dist-packages (from rich->keras==3.8.0->-r requirements.txt (line 4)) (3.0.0)\n",
            "Requirement already satisfied: pygments<3.0.0,>=2.13.0 in /usr/local/lib/python3.11/dist-packages (from rich->keras==3.8.0->-r requirements.txt (line 4)) (2.19.1)\n",
            "Requirement already satisfied: threadpoolctl>=3.1.0 in /usr/local/lib/python3.11/dist-packages (from scikit-learn->pyvi==0.1.1->-r requirements.txt (line 6)) (3.6.0)\n",
            "Requirement already satisfied: python-crfsuite>=0.9.7 in /usr/local/lib/python3.11/dist-packages (from sklearn-crfsuite->pyvi==0.1.1->-r requirements.txt (line 6)) (0.9.11)\n",
            "Requirement already satisfied: tabulate>=0.4.2 in /usr/local/lib/python3.11/dist-packages (from sklearn-crfsuite->pyvi==0.1.1->-r requirements.txt (line 6)) (0.9.0)\n",
            "Requirement already satisfied: mdurl~=0.1 in /usr/local/lib/python3.11/dist-packages (from markdown-it-py>=2.2.0->rich->keras==3.8.0->-r requirements.txt (line 4)) (0.1.2)\n",
            "Requirement already satisfied: MarkupSafe>=2.1.1 in /usr/local/lib/python3.11/dist-packages (from werkzeug>=1.0.1->tensorboard<2.19,>=2.18->tensorflow==2.18.0->-r requirements.txt (line 5)) (3.0.2)\n",
            "Found existing installation: scipy 1.12.0\n",
            "Uninstalling scipy-1.12.0:\n",
            "  Successfully uninstalled scipy-1.12.0\n",
            "Collecting scipy==1.12.0\n",
            "  Downloading scipy-1.12.0-cp311-cp311-manylinux_2_17_x86_64.manylinux2014_x86_64.whl.metadata (60 kB)\n",
            "\u001b[2K     \u001b[90m━━━━━━━━━━━━━━━━━━━━━━━━━━━━━━━━━━━━━━━━\u001b[0m \u001b[32m60.4/60.4 kB\u001b[0m \u001b[31m2.7 MB/s\u001b[0m eta \u001b[36m0:00:00\u001b[0m\n",
            "\u001b[?25hRequirement already satisfied: numpy<1.29.0,>=1.22.4 in /usr/local/lib/python3.11/dist-packages (from scipy==1.12.0) (1.26.4)\n",
            "Downloading scipy-1.12.0-cp311-cp311-manylinux_2_17_x86_64.manylinux2014_x86_64.whl (38.4 MB)\n",
            "\u001b[2K   \u001b[90m━━━━━━━━━━━━━━━━━━━━━━━━━━━━━━━━━━━━━━━━\u001b[0m \u001b[32m38.4/38.4 MB\u001b[0m \u001b[31m6.4 MB/s\u001b[0m eta \u001b[36m0:00:00\u001b[0m\n",
            "\u001b[?25hInstalling collected packages: scipy\n",
            "\u001b[31mERROR: pip's dependency resolver does not currently take into account all the packages that are installed. This behaviour is the source of the following dependency conflicts.\n",
            "tsfresh 0.21.0 requires scipy>=1.14.0; python_version >= \"3.10\", but you have scipy 1.12.0 which is incompatible.\u001b[0m\u001b[31m\n",
            "\u001b[0mSuccessfully installed scipy-1.12.0\n"
          ]
        },
        {
          "output_type": "display_data",
          "data": {
            "application/vnd.colab-display-data+json": {
              "pip_warning": {
                "packages": [
                  "scipy"
                ]
              },
              "id": "56ba301109e744efa3d55cdd84d57781"
            }
          },
          "metadata": {}
        }
      ],
      "source": [
        "!pip install -r requirements.txt\n",
        "!pip uninstall scipy -y\n",
        "!pip install scipy==1.12.0"
      ]
    },
    {
      "cell_type": "markdown",
      "metadata": {
        "id": "0I5NjOZ0sWHp"
      },
      "source": [
        "# Gọi thư viện"
      ]
    },
    {
      "cell_type": "code",
      "execution_count": 1,
      "metadata": {
        "colab": {
          "base_uri": "https://localhost:8080/"
        },
        "id": "8Sou4D9Syp-_",
        "outputId": "27664139-daba-4c4d-f093-00fb70e9e608"
      },
      "outputs": [
        {
          "output_type": "stream",
          "name": "stdout",
          "text": [
            "4.3.3\n"
          ]
        }
      ],
      "source": [
        "from pyvi import ViTokenizer, ViPosTagger # thư viện NLP tiếng Việt\n",
        "from tqdm import tqdm\n",
        "import numpy as np\n",
        "import gensim # thư viện NLP\n",
        "print(gensim.__version__)"
      ]
    },
    {
      "cell_type": "markdown",
      "metadata": {
        "id": "pw0peVUwvzYV"
      },
      "source": [
        "# Load dữ liệu và dump vào file pickle. (Chạy cell này nếu chưa có các file data *.pkl). Nếu đã có các file data *.pkl, bỏ qua cell code này."
      ]
    },
    {
      "cell_type": "code",
      "execution_count": null,
      "metadata": {
        "id": "M1TSTRpSyyqW"
      },
      "outputs": [],
      "source": [
        "import os\n",
        "import argparse\n",
        "import pickle\n",
        "from pyvi import ViTokenizer\n",
        "from tqdm import tqdm\n",
        "import gensim\n",
        "\n",
        "def get_data(folder_path):\n",
        "    data = []\n",
        "    labels = []\n",
        "    for root, _, files in os.walk(folder_path): # Duyệt đệ quy qua tất cả thư mục con\n",
        "        for file_path in files:\n",
        "            full_path = os.path.join(root, file_path)\n",
        "            with open(full_path, 'r', encoding=\"utf-16\") as f:\n",
        "                lines = f.readlines()\n",
        "                lines = ' '.join(lines)\n",
        "\n",
        "                lines = gensim.utils.simple_preprocess(lines)\n",
        "                lines = ' '.join(lines)\n",
        "\n",
        "                lines = ViTokenizer.tokenize(lines)\n",
        "                data.append(lines)\n",
        "                # Lấy nhãn từ tên thư mục cha\n",
        "                labels.append(os.path.basename(os.path.dirname(full_path)))\n",
        "\n",
        "    return data, labels\n",
        "\n",
        "\n",
        "\n",
        "X_data, y_data = get_data('/content/drive/MyDrive/vietnamese-text-classify-master/vietnamese-text-classify-master/data/Train_Full/Test_Full')\n",
        "X_test, y_test = get_data('/content/drive/MyDrive/vietnamese-text-classify-master/vietnamese-text-classify-master/data/Test_Full/Train_Full')\n",
        "\n",
        "# Tuần tự hoá và lưu lại các file data để tái sử dụng.\n",
        "\n",
        "pickle.dump(X_data, open('/content/drive/MyDrive/vietnamese-text-classify-master/vietnamese-text-classify-master/data/x_train.pkl', 'wb'))\n",
        "pickle.dump(y_data, open('/content/drive/MyDrive/vietnamese-text-classify-master/vietnamese-text-classify-master/data/y_train.pkl', 'wb'))\n",
        "\n",
        "pickle.dump(X_test, open('/content/drive/MyDrive/vietnamese-text-classify-master/vietnamese-text-classify-master/data/x_test.pkl', 'wb'))\n",
        "pickle.dump(y_test, open('/content/drive/MyDrive/vietnamese-text-classify-master/vietnamese-text-classify-master/data/y_test.pkl', 'wb'))"
      ]
    },
    {
      "cell_type": "markdown",
      "metadata": {
        "id": "VsJmxme1yZZZ"
      },
      "source": [
        "# Load data từ file *.pkl. Chỉ chạy cell code này khi đã có các file *.pkl"
      ]
    },
    {
      "cell_type": "code",
      "execution_count": 7,
      "metadata": {
        "colab": {
          "base_uri": "https://localhost:8080/"
        },
        "id": "wx7eRV_OoTRf",
        "outputId": "406bfc69-2d01-4e18-f001-0581ec0660e2"
      },
      "outputs": [
        {
          "output_type": "stream",
          "name": "stdout",
          "text": [
            "Loading preprocessed training data from .pkl files...\n",
            "Training data loaded successfully.\n",
            "Loading preprocessed test data from .pkl files...\n",
            "Test data loaded successfully.\n",
            "\n",
            "Sample training data:\n",
            "Text: cuộc đấu_giá có dấu_hiệu bất_minh tài_sản phát_mại gồm ôtô xe du_lịch thể_thao và môtô honda cc cuộc...\n",
            "Label: Phap luat\n",
            "\n",
            "Sample test data:\n",
            "Text: đau_đầu với tài_sản ảo tin từ bộ văn_hóa thông_tin cho biết sẽ có ba nội_dung tạm_thời chưa được đưa...\n",
            "Label: Vi tinh\n"
          ]
        }
      ],
      "source": [
        "import os\n",
        "import argparse\n",
        "import pickle\n",
        "from pyvi import ViTokenizer\n",
        "from tqdm import tqdm\n",
        "import gensim\n",
        "from google.colab import drive # Thêm thư viện để mount Drive\n",
        "\n",
        "\n",
        "# --- Định nghĩa đường dẫn ---\n",
        "# Đảm bảo đường dẫn này chính xác\n",
        "base_drive_path = '/content/drive/MyDrive/vietnamese-text-classify-master/vietnamese-text-classify-master/data'\n",
        "raw_train_folder = os.path.join(base_drive_path, 'Train_Full')\n",
        "raw_test_folder = os.path.join(base_drive_path, 'Test_Full')\n",
        "\n",
        "# Đường dẫn lưu file .pkl\n",
        "x_train_pkl_path = os.path.join(base_drive_path, 'x_train.pkl')\n",
        "y_train_pkl_path = os.path.join(base_drive_path, 'y_train.pkl')\n",
        "x_test_pkl_path = os.path.join(base_drive_path, 'x_test.pkl')\n",
        "y_test_pkl_path = os.path.join(base_drive_path, 'y_test.pkl')\n",
        "\n",
        "# --- Hàm get_data ---\n",
        "def get_data(folder_path):\n",
        "    \"\"\"Hàm đọc và xử lý dữ liệu văn bản từ thư mục.\"\"\"\n",
        "    data = []\n",
        "    labels = []\n",
        "    print(f\"Processing data from: {folder_path}\")\n",
        "    # Sử dụng os.path.basename để lấy tên thư mục cha làm nhãn\n",
        "    all_subdirs = [d for d in os.listdir(folder_path) if os.path.isdir(os.path.join(folder_path, d))]\n",
        "\n",
        "    for label in tqdm(all_subdirs, desc=\"Processing labels\"):\n",
        "        label_dir = os.path.join(folder_path, label)\n",
        "        for file_name in os.listdir(label_dir):\n",
        "            if os.path.isfile(os.path.join(label_dir, file_name)): # Chỉ xử lý file\n",
        "                full_path = os.path.join(label_dir, file_name)\n",
        "                try:\n",
        "                    with open(full_path, 'r', encoding=\"utf-16\", errors='ignore') as f:\n",
        "                        lines = f.read() # Đọc toàn bộ file\n",
        "\n",
        "                        # Xử lý bằng gensim trước\n",
        "                        lines = gensim.utils.simple_preprocess(lines)\n",
        "                        lines = ' '.join(lines)\n",
        "\n",
        "                        # Sau đó tokenize bằng pyvi\n",
        "                        lines = ViTokenizer.tokenize(lines)\n",
        "                        data.append(lines)\n",
        "                        labels.append(label) # Nhãn là tên thư mục chứa file\n",
        "                except Exception as e:\n",
        "                    print(f\"Error processing file {full_path}: {e}\")\n",
        "                    continue\n",
        "\n",
        "    print(f\"Finished processing. Found {len(data)} samples.\")\n",
        "    return data, labels\n",
        "\n",
        "# --- Kiểm tra và Tải/Xử lý dữ liệu ---\n",
        "# Kiểm tra file train\n",
        "if os.path.exists(x_train_pkl_path) and os.path.exists(y_train_pkl_path):\n",
        "    print(\"Loading preprocessed training data from .pkl files...\")\n",
        "    with open(x_train_pkl_path, 'rb') as f:\n",
        "        X_data = pickle.load(f)\n",
        "    with open(y_train_pkl_path, 'rb') as f:\n",
        "        y_data = pickle.load(f)\n",
        "    print(\"Training data loaded successfully.\")\n",
        "else:\n",
        "    print(\"Processed training data not found. Processing raw data...\")\n",
        "    # Lưu ý: Dữ liệu gốc bị đảo ngược trong code gốc (Train_Full vào X_test)\n",
        "    # Code này sẽ xử lý đúng thư mục: Train_Full -> X_data, y_data\n",
        "    X_data, y_data = get_data(raw_train_folder)\n",
        "    print(\"Saving processed training data to .pkl files...\")\n",
        "    with open(x_train_pkl_path, 'wb') as f:\n",
        "        pickle.dump(X_data, f)\n",
        "    with open(y_train_pkl_path, 'wb') as f:\n",
        "        pickle.dump(y_data, f)\n",
        "    print(\"Training data saved.\")\n",
        "\n",
        "# Kiểm tra file test\n",
        "if os.path.exists(x_test_pkl_path) and os.path.exists(y_test_pkl_path):\n",
        "    print(\"Loading preprocessed test data from .pkl files...\")\n",
        "    with open(x_test_pkl_path, 'rb') as f:\n",
        "        X_test = pickle.load(f)\n",
        "    with open(y_test_pkl_path, 'rb') as f:\n",
        "        y_test = pickle.load(f)\n",
        "    print(\"Test data loaded successfully.\")\n",
        "else:\n",
        "    print(\"Processed test data not found. Processing raw data...\")\n",
        "    # Code này sẽ xử lý đúng thư mục: Test_Full -> X_test, y_test\n",
        "    X_test, y_test = get_data(raw_test_folder)\n",
        "    print(\"Saving processed test data to .pkl files...\")\n",
        "    with open(x_test_pkl_path, 'wb') as f:\n",
        "        pickle.dump(X_test, f)\n",
        "    with open(y_test_pkl_path, 'wb') as f:\n",
        "        pickle.dump(y_test, f)\n",
        "    print(\"Test data saved.\")\n",
        "\n",
        "if X_data:\n",
        "    print(\"\\nSample training data:\")\n",
        "    print(f\"Text: {X_data[0][:100]}...\") # In 100 ký tự đầu\n",
        "    print(f\"Label: {y_data[0]}\")\n",
        "if X_test:\n",
        "    print(\"\\nSample test data:\")\n",
        "    print(f\"Text: {X_test[0][:100]}...\") # In 100 ký tự đầu\n",
        "    print(f\"Label: {y_test[0]}\")"
      ]
    },
    {
      "cell_type": "markdown",
      "metadata": {
        "id": "_hc7ReuoyxtI"
      },
      "source": [
        "Thống kê data"
      ]
    },
    {
      "cell_type": "code",
      "execution_count": 8,
      "metadata": {
        "colab": {
          "base_uri": "https://localhost:8080/"
        },
        "id": "ItHvP-kqaRMM",
        "outputId": "35c17826-896e-465b-f848-f0b56f9b8374"
      },
      "outputs": [
        {
          "output_type": "stream",
          "name": "stdout",
          "text": [
            "50374\n",
            "50374\n",
            "33769\n",
            "33769\n"
          ]
        }
      ],
      "source": [
        "print(len(X_data))\n",
        "print(len(y_data))\n",
        "print(len(X_test))\n",
        "print(len(y_test))"
      ]
    },
    {
      "cell_type": "markdown",
      "source": [
        "# Load file stopwords và tiền xử lý dữ liệu."
      ],
      "metadata": {
        "id": "J-GVDY3WUgPv"
      }
    },
    {
      "cell_type": "code",
      "execution_count": 9,
      "metadata": {
        "id": "ARVJXzvtzIcF"
      },
      "outputs": [],
      "source": [
        "with open('/content/drive/MyDrive/vietnamese-text-classify-master/vietnamese-text-classify-master/data/vietnamese-stopwords-dash.txt', 'r') as f:\n",
        "    stopwords = set([w.strip() for w in f.readlines()])"
      ]
    },
    {
      "cell_type": "markdown",
      "source": [
        "tách từ cho data (train)"
      ],
      "metadata": {
        "id": "4aYT9k5mUrK5"
      }
    },
    {
      "cell_type": "code",
      "execution_count": 10,
      "metadata": {
        "id": "a07sCHlczLEi"
      },
      "outputs": [],
      "source": [
        "for i in range(len(X_data)):\n",
        "    text = X_data[i]\n",
        "    try:\n",
        "        split_words =  [x.strip('0123456789%@$.,=+-!;/()*\"&^:#|\\n\\t\\'').lower() for x in text.split()]\n",
        "    except TypeError:\n",
        "        split_words =  []\n",
        "    X_data[i] = ' '.join([word for word in split_words if word not in stopwords])"
      ]
    },
    {
      "cell_type": "markdown",
      "source": [
        "tách từ cho data (test)"
      ],
      "metadata": {
        "id": "U8iPy7-fUy-E"
      }
    },
    {
      "cell_type": "code",
      "execution_count": 11,
      "metadata": {
        "id": "tB-jtG7kzQGk"
      },
      "outputs": [],
      "source": [
        "for i in range(len(X_test)):\n",
        "    text = X_test[i]\n",
        "    try:\n",
        "        split_words =  [x.strip('0123456789%@$.,=+-!;/()*\"&^:#|\\n\\t\\'').lower() for x in text.split()]\n",
        "    except TypeError:\n",
        "        split_words =  []\n",
        "    X_test[i] = ' '.join([word for word in split_words if word not in stopwords])"
      ]
    },
    {
      "cell_type": "markdown",
      "source": [
        "TF-IDF để trích xuất đặc trưng"
      ],
      "metadata": {
        "id": "Vn51g3BPU2Uv"
      }
    },
    {
      "cell_type": "code",
      "execution_count": 12,
      "metadata": {
        "id": "8UqmuI9pzTXN"
      },
      "outputs": [],
      "source": [
        "from sklearn.feature_extraction.text import TfidfVectorizer\n",
        "\n",
        "tfidf_vect = TfidfVectorizer(analyzer='word', max_features=10000)\n",
        "#Tính tfidf cho tập train\n",
        "tfidf_vect.fit(X_data)\n",
        "pickle.dump(tfidf_vect, open(\"/content/drive/MyDrive/vietnamese-text-classify-master/vietnamese-text-classify-master/model/vectorizer.pickle\", \"wb\"))\n",
        "tfidf_X_data =  tfidf_vect.transform(X_data)\n",
        "tfidf_X_test =  tfidf_vect.transform(X_test)"
      ]
    },
    {
      "cell_type": "markdown",
      "source": [
        "Giảm chiều dữ liệu với SVD"
      ],
      "metadata": {
        "id": "OkvKtMkVU7hS"
      }
    },
    {
      "cell_type": "code",
      "execution_count": 13,
      "metadata": {
        "id": "linC5R0LzVux"
      },
      "outputs": [],
      "source": [
        "from sklearn.decomposition import TruncatedSVD\n",
        "\n",
        "svd = TruncatedSVD(n_components=500, random_state=1998)\n",
        "svd.fit(tfidf_X_data)\n",
        "pickle.dump(svd, open(\"/content/drive/MyDrive/vietnamese-text-classify-master/vietnamese-text-classify-master/model/selector.pickle\", \"wb\"))\n",
        "\n",
        "tfidf_X_data_svd = svd.transform(tfidf_X_data)\n",
        "tfidf_X_test_svd = svd.transform(tfidf_X_test)"
      ]
    },
    {
      "cell_type": "markdown",
      "source": [
        "Thống kê *chiều* dữ liệu sau khi tiền xử lý"
      ],
      "metadata": {
        "id": "TwztOAq5U_I1"
      }
    },
    {
      "cell_type": "code",
      "execution_count": 14,
      "metadata": {
        "colab": {
          "base_uri": "https://localhost:8080/"
        },
        "id": "Uc3_Qd1WuyfE",
        "outputId": "a2deb76b-f90a-4099-83b2-c97976c88ae6"
      },
      "outputs": [
        {
          "output_type": "stream",
          "name": "stdout",
          "text": [
            "(50374, 500)\n",
            "(33769, 500)\n"
          ]
        }
      ],
      "source": [
        "print(tfidf_X_data_svd.shape) #train\n",
        "\n",
        "print(tfidf_X_test_svd.shape) #test"
      ]
    },
    {
      "cell_type": "markdown",
      "source": [
        "#Xây dựng Model để huấn luyện mô hình"
      ],
      "metadata": {
        "id": "wgD3mPLFVIXB"
      }
    },
    {
      "cell_type": "markdown",
      "source": [
        "Gọi thư viện"
      ],
      "metadata": {
        "id": "WD2HAXMiVLOQ"
      }
    },
    {
      "cell_type": "code",
      "execution_count": 15,
      "metadata": {
        "id": "Qz_99BxQ5T6_"
      },
      "outputs": [],
      "source": [
        "from keras import models\n",
        "from keras.models import *\n",
        "from keras.layers import *\n",
        "from keras.callbacks import TensorBoard\n",
        "from keras.callbacks import ModelCheckpoint\n",
        "from tensorflow.keras.optimizers import Adam\n",
        "from keras import optimizers\n",
        "from sklearn.model_selection import train_test_split"
      ]
    },
    {
      "cell_type": "code",
      "execution_count": 5,
      "metadata": {
        "id": "1dznGx1ZzYGA"
      },
      "outputs": [],
      "source": [
        "def lstm_model():\n",
        "\n",
        "    input_layer = Input(shape=(500,))\n",
        "    layer = Reshape((1, 500))(input_layer)\n",
        "    layer = LSTM(256, activation='relu',dropout=0.65,recurrent_dropout=0.3)(layer)\n",
        "\n",
        "    layer = Dense(512, activation='relu')(layer)\n",
        "    layer = Dropout(0.5)(layer)\n",
        "    layer = Dense(512, activation='relu')(layer)\n",
        "    layer = Dense(256, activation='relu')(layer)\n",
        "    layer = Dropout(0.5)(layer)\n",
        "    layer = Dense(256, activation='relu')(layer)\n",
        "    layer = Dense(128, activation='relu')(layer)\n",
        "    layer = Dropout(0.5)(layer)\n",
        "    layer = Dense(128, activation='relu')(layer)\n",
        "\n",
        "    output_layer = Dense(10, activation='softmax')(layer)\n",
        "    model = models.Model(input_layer, output_layer)\n",
        "\n",
        "    model.compile(optimizer= 'adam', loss='sparse_categorical_crossentropy', metrics=['accuracy'])\n",
        "\n",
        "    return model"
      ]
    },
    {
      "cell_type": "code",
      "execution_count": null,
      "metadata": {
        "colab": {
          "base_uri": "https://localhost:8080/",
          "height": 545
        },
        "id": "chEfNQFR2G6h",
        "outputId": "ce178825-adc3-48c9-ccd5-9e451671d9c5"
      },
      "outputs": [
        {
          "output_type": "display_data",
          "data": {
            "text/plain": [
              "\u001b[1mModel: \"functional\"\u001b[0m\n"
            ],
            "text/html": [
              "<pre style=\"white-space:pre;overflow-x:auto;line-height:normal;font-family:Menlo,'DejaVu Sans Mono',consolas,'Courier New',monospace\"><span style=\"font-weight: bold\">Model: \"functional\"</span>\n",
              "</pre>\n"
            ]
          },
          "metadata": {}
        },
        {
          "output_type": "display_data",
          "data": {
            "text/plain": [
              "┏━━━━━━━━━━━━━━━━━━━━━━━━━━━━━━━━━┳━━━━━━━━━━━━━━━━━━━━━━━━┳━━━━━━━━━━━━━━━┓\n",
              "┃\u001b[1m \u001b[0m\u001b[1mLayer (type)                   \u001b[0m\u001b[1m \u001b[0m┃\u001b[1m \u001b[0m\u001b[1mOutput Shape          \u001b[0m\u001b[1m \u001b[0m┃\u001b[1m \u001b[0m\u001b[1m      Param #\u001b[0m\u001b[1m \u001b[0m┃\n",
              "┡━━━━━━━━━━━━━━━━━━━━━━━━━━━━━━━━━╇━━━━━━━━━━━━━━━━━━━━━━━━╇━━━━━━━━━━━━━━━┩\n",
              "│ input_layer (\u001b[38;5;33mInputLayer\u001b[0m)        │ (\u001b[38;5;45mNone\u001b[0m, \u001b[38;5;34m500\u001b[0m)            │             \u001b[38;5;34m0\u001b[0m │\n",
              "├─────────────────────────────────┼────────────────────────┼───────────────┤\n",
              "│ reshape (\u001b[38;5;33mReshape\u001b[0m)               │ (\u001b[38;5;45mNone\u001b[0m, \u001b[38;5;34m1\u001b[0m, \u001b[38;5;34m500\u001b[0m)         │             \u001b[38;5;34m0\u001b[0m │\n",
              "├─────────────────────────────────┼────────────────────────┼───────────────┤\n",
              "│ lstm (\u001b[38;5;33mLSTM\u001b[0m)                     │ (\u001b[38;5;45mNone\u001b[0m, \u001b[38;5;34m256\u001b[0m)            │       \u001b[38;5;34m775,168\u001b[0m │\n",
              "├─────────────────────────────────┼────────────────────────┼───────────────┤\n",
              "│ dense (\u001b[38;5;33mDense\u001b[0m)                   │ (\u001b[38;5;45mNone\u001b[0m, \u001b[38;5;34m512\u001b[0m)            │       \u001b[38;5;34m131,584\u001b[0m │\n",
              "├─────────────────────────────────┼────────────────────────┼───────────────┤\n",
              "│ dropout (\u001b[38;5;33mDropout\u001b[0m)               │ (\u001b[38;5;45mNone\u001b[0m, \u001b[38;5;34m512\u001b[0m)            │             \u001b[38;5;34m0\u001b[0m │\n",
              "├─────────────────────────────────┼────────────────────────┼───────────────┤\n",
              "│ dense_1 (\u001b[38;5;33mDense\u001b[0m)                 │ (\u001b[38;5;45mNone\u001b[0m, \u001b[38;5;34m512\u001b[0m)            │       \u001b[38;5;34m262,656\u001b[0m │\n",
              "├─────────────────────────────────┼────────────────────────┼───────────────┤\n",
              "│ dense_2 (\u001b[38;5;33mDense\u001b[0m)                 │ (\u001b[38;5;45mNone\u001b[0m, \u001b[38;5;34m256\u001b[0m)            │       \u001b[38;5;34m131,328\u001b[0m │\n",
              "├─────────────────────────────────┼────────────────────────┼───────────────┤\n",
              "│ dropout_1 (\u001b[38;5;33mDropout\u001b[0m)             │ (\u001b[38;5;45mNone\u001b[0m, \u001b[38;5;34m256\u001b[0m)            │             \u001b[38;5;34m0\u001b[0m │\n",
              "├─────────────────────────────────┼────────────────────────┼───────────────┤\n",
              "│ dense_3 (\u001b[38;5;33mDense\u001b[0m)                 │ (\u001b[38;5;45mNone\u001b[0m, \u001b[38;5;34m256\u001b[0m)            │        \u001b[38;5;34m65,792\u001b[0m │\n",
              "├─────────────────────────────────┼────────────────────────┼───────────────┤\n",
              "│ dense_4 (\u001b[38;5;33mDense\u001b[0m)                 │ (\u001b[38;5;45mNone\u001b[0m, \u001b[38;5;34m128\u001b[0m)            │        \u001b[38;5;34m32,896\u001b[0m │\n",
              "├─────────────────────────────────┼────────────────────────┼───────────────┤\n",
              "│ dropout_2 (\u001b[38;5;33mDropout\u001b[0m)             │ (\u001b[38;5;45mNone\u001b[0m, \u001b[38;5;34m128\u001b[0m)            │             \u001b[38;5;34m0\u001b[0m │\n",
              "├─────────────────────────────────┼────────────────────────┼───────────────┤\n",
              "│ dense_5 (\u001b[38;5;33mDense\u001b[0m)                 │ (\u001b[38;5;45mNone\u001b[0m, \u001b[38;5;34m128\u001b[0m)            │        \u001b[38;5;34m16,512\u001b[0m │\n",
              "├─────────────────────────────────┼────────────────────────┼───────────────┤\n",
              "│ dense_6 (\u001b[38;5;33mDense\u001b[0m)                 │ (\u001b[38;5;45mNone\u001b[0m, \u001b[38;5;34m10\u001b[0m)             │         \u001b[38;5;34m1,290\u001b[0m │\n",
              "└─────────────────────────────────┴────────────────────────┴───────────────┘\n"
            ],
            "text/html": [
              "<pre style=\"white-space:pre;overflow-x:auto;line-height:normal;font-family:Menlo,'DejaVu Sans Mono',consolas,'Courier New',monospace\">┏━━━━━━━━━━━━━━━━━━━━━━━━━━━━━━━━━┳━━━━━━━━━━━━━━━━━━━━━━━━┳━━━━━━━━━━━━━━━┓\n",
              "┃<span style=\"font-weight: bold\"> Layer (type)                    </span>┃<span style=\"font-weight: bold\"> Output Shape           </span>┃<span style=\"font-weight: bold\">       Param # </span>┃\n",
              "┡━━━━━━━━━━━━━━━━━━━━━━━━━━━━━━━━━╇━━━━━━━━━━━━━━━━━━━━━━━━╇━━━━━━━━━━━━━━━┩\n",
              "│ input_layer (<span style=\"color: #0087ff; text-decoration-color: #0087ff\">InputLayer</span>)        │ (<span style=\"color: #00d7ff; text-decoration-color: #00d7ff\">None</span>, <span style=\"color: #00af00; text-decoration-color: #00af00\">500</span>)            │             <span style=\"color: #00af00; text-decoration-color: #00af00\">0</span> │\n",
              "├─────────────────────────────────┼────────────────────────┼───────────────┤\n",
              "│ reshape (<span style=\"color: #0087ff; text-decoration-color: #0087ff\">Reshape</span>)               │ (<span style=\"color: #00d7ff; text-decoration-color: #00d7ff\">None</span>, <span style=\"color: #00af00; text-decoration-color: #00af00\">1</span>, <span style=\"color: #00af00; text-decoration-color: #00af00\">500</span>)         │             <span style=\"color: #00af00; text-decoration-color: #00af00\">0</span> │\n",
              "├─────────────────────────────────┼────────────────────────┼───────────────┤\n",
              "│ lstm (<span style=\"color: #0087ff; text-decoration-color: #0087ff\">LSTM</span>)                     │ (<span style=\"color: #00d7ff; text-decoration-color: #00d7ff\">None</span>, <span style=\"color: #00af00; text-decoration-color: #00af00\">256</span>)            │       <span style=\"color: #00af00; text-decoration-color: #00af00\">775,168</span> │\n",
              "├─────────────────────────────────┼────────────────────────┼───────────────┤\n",
              "│ dense (<span style=\"color: #0087ff; text-decoration-color: #0087ff\">Dense</span>)                   │ (<span style=\"color: #00d7ff; text-decoration-color: #00d7ff\">None</span>, <span style=\"color: #00af00; text-decoration-color: #00af00\">512</span>)            │       <span style=\"color: #00af00; text-decoration-color: #00af00\">131,584</span> │\n",
              "├─────────────────────────────────┼────────────────────────┼───────────────┤\n",
              "│ dropout (<span style=\"color: #0087ff; text-decoration-color: #0087ff\">Dropout</span>)               │ (<span style=\"color: #00d7ff; text-decoration-color: #00d7ff\">None</span>, <span style=\"color: #00af00; text-decoration-color: #00af00\">512</span>)            │             <span style=\"color: #00af00; text-decoration-color: #00af00\">0</span> │\n",
              "├─────────────────────────────────┼────────────────────────┼───────────────┤\n",
              "│ dense_1 (<span style=\"color: #0087ff; text-decoration-color: #0087ff\">Dense</span>)                 │ (<span style=\"color: #00d7ff; text-decoration-color: #00d7ff\">None</span>, <span style=\"color: #00af00; text-decoration-color: #00af00\">512</span>)            │       <span style=\"color: #00af00; text-decoration-color: #00af00\">262,656</span> │\n",
              "├─────────────────────────────────┼────────────────────────┼───────────────┤\n",
              "│ dense_2 (<span style=\"color: #0087ff; text-decoration-color: #0087ff\">Dense</span>)                 │ (<span style=\"color: #00d7ff; text-decoration-color: #00d7ff\">None</span>, <span style=\"color: #00af00; text-decoration-color: #00af00\">256</span>)            │       <span style=\"color: #00af00; text-decoration-color: #00af00\">131,328</span> │\n",
              "├─────────────────────────────────┼────────────────────────┼───────────────┤\n",
              "│ dropout_1 (<span style=\"color: #0087ff; text-decoration-color: #0087ff\">Dropout</span>)             │ (<span style=\"color: #00d7ff; text-decoration-color: #00d7ff\">None</span>, <span style=\"color: #00af00; text-decoration-color: #00af00\">256</span>)            │             <span style=\"color: #00af00; text-decoration-color: #00af00\">0</span> │\n",
              "├─────────────────────────────────┼────────────────────────┼───────────────┤\n",
              "│ dense_3 (<span style=\"color: #0087ff; text-decoration-color: #0087ff\">Dense</span>)                 │ (<span style=\"color: #00d7ff; text-decoration-color: #00d7ff\">None</span>, <span style=\"color: #00af00; text-decoration-color: #00af00\">256</span>)            │        <span style=\"color: #00af00; text-decoration-color: #00af00\">65,792</span> │\n",
              "├─────────────────────────────────┼────────────────────────┼───────────────┤\n",
              "│ dense_4 (<span style=\"color: #0087ff; text-decoration-color: #0087ff\">Dense</span>)                 │ (<span style=\"color: #00d7ff; text-decoration-color: #00d7ff\">None</span>, <span style=\"color: #00af00; text-decoration-color: #00af00\">128</span>)            │        <span style=\"color: #00af00; text-decoration-color: #00af00\">32,896</span> │\n",
              "├─────────────────────────────────┼────────────────────────┼───────────────┤\n",
              "│ dropout_2 (<span style=\"color: #0087ff; text-decoration-color: #0087ff\">Dropout</span>)             │ (<span style=\"color: #00d7ff; text-decoration-color: #00d7ff\">None</span>, <span style=\"color: #00af00; text-decoration-color: #00af00\">128</span>)            │             <span style=\"color: #00af00; text-decoration-color: #00af00\">0</span> │\n",
              "├─────────────────────────────────┼────────────────────────┼───────────────┤\n",
              "│ dense_5 (<span style=\"color: #0087ff; text-decoration-color: #0087ff\">Dense</span>)                 │ (<span style=\"color: #00d7ff; text-decoration-color: #00d7ff\">None</span>, <span style=\"color: #00af00; text-decoration-color: #00af00\">128</span>)            │        <span style=\"color: #00af00; text-decoration-color: #00af00\">16,512</span> │\n",
              "├─────────────────────────────────┼────────────────────────┼───────────────┤\n",
              "│ dense_6 (<span style=\"color: #0087ff; text-decoration-color: #0087ff\">Dense</span>)                 │ (<span style=\"color: #00d7ff; text-decoration-color: #00d7ff\">None</span>, <span style=\"color: #00af00; text-decoration-color: #00af00\">10</span>)             │         <span style=\"color: #00af00; text-decoration-color: #00af00\">1,290</span> │\n",
              "└─────────────────────────────────┴────────────────────────┴───────────────┘\n",
              "</pre>\n"
            ]
          },
          "metadata": {}
        },
        {
          "output_type": "display_data",
          "data": {
            "text/plain": [
              "\u001b[1m Total params: \u001b[0m\u001b[38;5;34m1,417,226\u001b[0m (5.41 MB)\n"
            ],
            "text/html": [
              "<pre style=\"white-space:pre;overflow-x:auto;line-height:normal;font-family:Menlo,'DejaVu Sans Mono',consolas,'Courier New',monospace\"><span style=\"font-weight: bold\"> Total params: </span><span style=\"color: #00af00; text-decoration-color: #00af00\">1,417,226</span> (5.41 MB)\n",
              "</pre>\n"
            ]
          },
          "metadata": {}
        },
        {
          "output_type": "display_data",
          "data": {
            "text/plain": [
              "\u001b[1m Trainable params: \u001b[0m\u001b[38;5;34m1,417,226\u001b[0m (5.41 MB)\n"
            ],
            "text/html": [
              "<pre style=\"white-space:pre;overflow-x:auto;line-height:normal;font-family:Menlo,'DejaVu Sans Mono',consolas,'Courier New',monospace\"><span style=\"font-weight: bold\"> Trainable params: </span><span style=\"color: #00af00; text-decoration-color: #00af00\">1,417,226</span> (5.41 MB)\n",
              "</pre>\n"
            ]
          },
          "metadata": {}
        },
        {
          "output_type": "display_data",
          "data": {
            "text/plain": [
              "\u001b[1m Non-trainable params: \u001b[0m\u001b[38;5;34m0\u001b[0m (0.00 B)\n"
            ],
            "text/html": [
              "<pre style=\"white-space:pre;overflow-x:auto;line-height:normal;font-family:Menlo,'DejaVu Sans Mono',consolas,'Courier New',monospace\"><span style=\"font-weight: bold\"> Non-trainable params: </span><span style=\"color: #00af00; text-decoration-color: #00af00\">0</span> (0.00 B)\n",
              "</pre>\n"
            ]
          },
          "metadata": {}
        }
      ],
      "source": [
        "model = lstm_model()\n",
        "model.summary()"
      ]
    },
    {
      "cell_type": "markdown",
      "source": [
        "Mã hoá các nhãn"
      ],
      "metadata": {
        "id": "CivgocriW5hn"
      }
    },
    {
      "cell_type": "code",
      "execution_count": 16,
      "metadata": {
        "id": "qVs-17kmzfNb"
      },
      "outputs": [],
      "source": [
        "from sklearn import preprocessing\n",
        "import numpy\n",
        "\n",
        "encoder = preprocessing.LabelEncoder()\n",
        "y_data_one_hot = encoder.fit_transform(y_data)\n",
        "y_test_one_hot = encoder.fit_transform(y_test)\n",
        "numpy.save('/content/drive/MyDrive/vietnamese-text-classify-master/vietnamese-text-classify-master/model/classes.npy', encoder.classes_)"
      ]
    },
    {
      "cell_type": "code",
      "source": [
        "print(y_data_one_hot)"
      ],
      "metadata": {
        "colab": {
          "base_uri": "https://localhost:8080/"
        },
        "id": "ZwEyAweWW-Ct",
        "outputId": "2504eebf-18c3-4e01-d50c-a0660e7b8dc3"
      },
      "execution_count": 14,
      "outputs": [
        {
          "output_type": "stream",
          "name": "stdout",
          "text": [
            "[4 4 4 ... 8 8 8]\n"
          ]
        }
      ]
    },
    {
      "cell_type": "code",
      "execution_count": null,
      "metadata": {
        "colab": {
          "base_uri": "https://localhost:8080/"
        },
        "id": "SoepoS2UUeXy",
        "outputId": "8a616255-5faa-4fd3-eab0-0de7eef95bbe"
      },
      "outputs": [
        {
          "output_type": "stream",
          "name": "stdout",
          "text": [
            "[9 9 9 ... 4 4 4]\n"
          ]
        }
      ],
      "source": [
        "print(y_test_one_hot)"
      ]
    },
    {
      "cell_type": "code",
      "execution_count": 22,
      "metadata": {
        "id": "L-s6EXd3zhb1"
      },
      "outputs": [],
      "source": [
        "from sklearn import metrics\n",
        "\n",
        "def train(model, X_data, y_data, X_test, y_test, n_epochs=50):\n",
        "    # split training data and validation data\n",
        "    X_train, X_val, y_train, y_val = train_test_split(X_data, y_data, test_size=0.05, random_state=2019)\n",
        "    history = model.fit(X_train, y_train, validation_data=(X_val, y_val), epochs=n_epochs, batch_size=512)\n",
        "\n",
        "    train_predictions = model.predict(X_train)\n",
        "    val_predictions = model.predict(X_val)\n",
        "    test_predictions = model.predict(X_test)\n",
        "\n",
        "    val_predictions = val_predictions.argmax(axis=-1)\n",
        "    test_predictions = test_predictions.argmax(axis=-1)\n",
        "    train_predictions = train_predictions.argmax(axis=-1)\n",
        "\n",
        "    print(\"Train accuract\", metrics.accuracy_score(train_predictions, y_train))\n",
        "    print(\"Validation accuracy: \", metrics.accuracy_score(val_predictions, y_val))\n",
        "    print(\"Test accuracy: \", metrics.accuracy_score(test_predictions, y_test))\n",
        "\n",
        "    model_json = model.to_json()\n",
        "    with open(\"/content/drive/MyDrive/vietnamese-text-classify-master/vietnamese-text-classify-master/model/model.json\", \"w\") as json_file:\n",
        "        json_file.write(model_json)\n",
        "    # serialize weights to HDF5\n",
        "    model.save_weights(\"/content/drive/MyDrive/vietnamese-text-classify-master/vietnamese-text-classify-master/model/model.weights.h5\")\n",
        "    print(\"Saved model to disk\")\n",
        "\n",
        "    return history"
      ]
    },
    {
      "cell_type": "code",
      "execution_count": null,
      "metadata": {
        "colab": {
          "base_uri": "https://localhost:8080/"
        },
        "id": "XGP9fvmTzkTh",
        "outputId": "25141a65-7d8d-454e-be25-862f1d6af9ad"
      },
      "outputs": [
        {
          "output_type": "stream",
          "name": "stdout",
          "text": [
            "Epoch 1/50\n",
            "\u001b[1m94/94\u001b[0m \u001b[32m━━━━━━━━━━━━━━━━━━━━\u001b[0m\u001b[37m\u001b[0m \u001b[1m14s\u001b[0m 101ms/step - accuracy: 0.1491 - loss: 2.2054 - val_accuracy: 0.3898 - val_loss: 1.7341\n",
            "Epoch 2/50\n",
            "\u001b[1m94/94\u001b[0m \u001b[32m━━━━━━━━━━━━━━━━━━━━\u001b[0m\u001b[37m\u001b[0m \u001b[1m10s\u001b[0m 95ms/step - accuracy: 0.3500 - loss: 1.7961 - val_accuracy: 0.7293 - val_loss: 1.0446\n",
            "Epoch 3/50\n",
            "\u001b[1m94/94\u001b[0m \u001b[32m━━━━━━━━━━━━━━━━━━━━\u001b[0m\u001b[37m\u001b[0m \u001b[1m9s\u001b[0m 92ms/step - accuracy: 0.5786 - loss: 1.2755 - val_accuracy: 0.8023 - val_loss: 0.6215\n",
            "Epoch 4/50\n",
            "\u001b[1m94/94\u001b[0m \u001b[32m━━━━━━━━━━━━━━━━━━━━\u001b[0m\u001b[37m\u001b[0m \u001b[1m9s\u001b[0m 83ms/step - accuracy: 0.7020 - loss: 0.9637 - val_accuracy: 0.8194 - val_loss: 0.5567\n",
            "Epoch 5/50\n",
            "\u001b[1m94/94\u001b[0m \u001b[32m━━━━━━━━━━━━━━━━━━━━\u001b[0m\u001b[37m\u001b[0m \u001b[1m10s\u001b[0m 83ms/step - accuracy: 0.7507 - loss: 0.8269 - val_accuracy: 0.8563 - val_loss: 0.4630\n",
            "Epoch 6/50\n",
            "\u001b[1m94/94\u001b[0m \u001b[32m━━━━━━━━━━━━━━━━━━━━\u001b[0m\u001b[37m\u001b[0m \u001b[1m9s\u001b[0m 94ms/step - accuracy: 0.7837 - loss: 0.7464 - val_accuracy: 0.8726 - val_loss: 0.4254\n",
            "Epoch 7/50\n",
            "\u001b[1m94/94\u001b[0m \u001b[32m━━━━━━━━━━━━━━━━━━━━\u001b[0m\u001b[37m\u001b[0m \u001b[1m9s\u001b[0m 91ms/step - accuracy: 0.7992 - loss: 0.6817 - val_accuracy: 0.8877 - val_loss: 0.3899\n",
            "Epoch 8/50\n",
            "\u001b[1m94/94\u001b[0m \u001b[32m━━━━━━━━━━━━━━━━━━━━\u001b[0m\u001b[37m\u001b[0m \u001b[1m8s\u001b[0m 84ms/step - accuracy: 0.8195 - loss: 0.6337 - val_accuracy: 0.8956 - val_loss: 0.3652\n",
            "Epoch 9/50\n",
            "\u001b[1m94/94\u001b[0m \u001b[32m━━━━━━━━━━━━━━━━━━━━\u001b[0m\u001b[37m\u001b[0m \u001b[1m11s\u001b[0m 89ms/step - accuracy: 0.8249 - loss: 0.6025 - val_accuracy: 0.8928 - val_loss: 0.3900\n",
            "Epoch 10/50\n",
            "\u001b[1m94/94\u001b[0m \u001b[32m━━━━━━━━━━━━━━━━━━━━\u001b[0m\u001b[37m\u001b[0m \u001b[1m11s\u001b[0m 95ms/step - accuracy: 0.8337 - loss: 0.5716 - val_accuracy: 0.8980 - val_loss: 0.3485\n",
            "Epoch 11/50\n",
            "\u001b[1m94/94\u001b[0m \u001b[32m━━━━━━━━━━━━━━━━━━━━\u001b[0m\u001b[37m\u001b[0m \u001b[1m9s\u001b[0m 91ms/step - accuracy: 0.8431 - loss: 0.5520 - val_accuracy: 0.8976 - val_loss: 0.3575\n",
            "Epoch 12/50\n",
            "\u001b[1m94/94\u001b[0m \u001b[32m━━━━━━━━━━━━━━━━━━━━\u001b[0m\u001b[37m\u001b[0m \u001b[1m8s\u001b[0m 84ms/step - accuracy: 0.8519 - loss: 0.5220 - val_accuracy: 0.9043 - val_loss: 0.3261\n",
            "Epoch 13/50\n",
            "\u001b[1m94/94\u001b[0m \u001b[32m━━━━━━━━━━━━━━━━━━━━\u001b[0m\u001b[37m\u001b[0m \u001b[1m10s\u001b[0m 86ms/step - accuracy: 0.8543 - loss: 0.5127 - val_accuracy: 0.9035 - val_loss: 0.3330\n",
            "Epoch 14/50\n",
            "\u001b[1m94/94\u001b[0m \u001b[32m━━━━━━━━━━━━━━━━━━━━\u001b[0m\u001b[37m\u001b[0m \u001b[1m9s\u001b[0m 96ms/step - accuracy: 0.8607 - loss: 0.4904 - val_accuracy: 0.9008 - val_loss: 0.3230\n",
            "Epoch 15/50\n",
            "\u001b[1m94/94\u001b[0m \u001b[32m━━━━━━━━━━━━━━━━━━━━\u001b[0m\u001b[37m\u001b[0m \u001b[1m10s\u001b[0m 94ms/step - accuracy: 0.8607 - loss: 0.4800 - val_accuracy: 0.9027 - val_loss: 0.3172\n",
            "Epoch 16/50\n",
            "\u001b[1m94/94\u001b[0m \u001b[32m━━━━━━━━━━━━━━━━━━━━\u001b[0m\u001b[37m\u001b[0m \u001b[1m10s\u001b[0m 91ms/step - accuracy: 0.8666 - loss: 0.4577 - val_accuracy: 0.9079 - val_loss: 0.3093\n",
            "Epoch 17/50\n",
            "\u001b[1m94/94\u001b[0m \u001b[32m━━━━━━━━━━━━━━━━━━━━\u001b[0m\u001b[37m\u001b[0m \u001b[1m10s\u001b[0m 86ms/step - accuracy: 0.8691 - loss: 0.4516 - val_accuracy: 0.9095 - val_loss: 0.3155\n",
            "Epoch 18/50\n",
            "\u001b[1m94/94\u001b[0m \u001b[32m━━━━━━━━━━━━━━━━━━━━\u001b[0m\u001b[37m\u001b[0m \u001b[1m11s\u001b[0m 90ms/step - accuracy: 0.8685 - loss: 0.4495 - val_accuracy: 0.9111 - val_loss: 0.3017\n",
            "Epoch 19/50\n",
            "\u001b[1m94/94\u001b[0m \u001b[32m━━━━━━━━━━━━━━━━━━━━\u001b[0m\u001b[37m\u001b[0m \u001b[1m9s\u001b[0m 92ms/step - accuracy: 0.8710 - loss: 0.4371 - val_accuracy: 0.9067 - val_loss: 0.3084\n",
            "Epoch 20/50\n",
            "\u001b[1m94/94\u001b[0m \u001b[32m━━━━━━━━━━━━━━━━━━━━\u001b[0m\u001b[37m\u001b[0m \u001b[1m10s\u001b[0m 93ms/step - accuracy: 0.8736 - loss: 0.4284 - val_accuracy: 0.9111 - val_loss: 0.3022\n",
            "Epoch 21/50\n",
            "\u001b[1m94/94\u001b[0m \u001b[32m━━━━━━━━━━━━━━━━━━━━\u001b[0m\u001b[37m\u001b[0m \u001b[1m8s\u001b[0m 84ms/step - accuracy: 0.8764 - loss: 0.4194 - val_accuracy: 0.9123 - val_loss: 0.2953\n",
            "Epoch 22/50\n",
            "\u001b[1m94/94\u001b[0m \u001b[32m━━━━━━━━━━━━━━━━━━━━\u001b[0m\u001b[37m\u001b[0m \u001b[1m10s\u001b[0m 85ms/step - accuracy: 0.8768 - loss: 0.4135 - val_accuracy: 0.9111 - val_loss: 0.2984\n",
            "Epoch 23/50\n",
            "\u001b[1m94/94\u001b[0m \u001b[32m━━━━━━━━━━━━━━━━━━━━\u001b[0m\u001b[37m\u001b[0m \u001b[1m9s\u001b[0m 96ms/step - accuracy: 0.8809 - loss: 0.4050 - val_accuracy: 0.9087 - val_loss: 0.3057\n",
            "Epoch 24/50\n",
            "\u001b[1m94/94\u001b[0m \u001b[32m━━━━━━━━━━━━━━━━━━━━\u001b[0m\u001b[37m\u001b[0m \u001b[1m9s\u001b[0m 92ms/step - accuracy: 0.8807 - loss: 0.4009 - val_accuracy: 0.9123 - val_loss: 0.2959\n",
            "Epoch 25/50\n",
            "\u001b[1m94/94\u001b[0m \u001b[32m━━━━━━━━━━━━━━━━━━━━\u001b[0m\u001b[37m\u001b[0m \u001b[1m9s\u001b[0m 84ms/step - accuracy: 0.8830 - loss: 0.3944 - val_accuracy: 0.9063 - val_loss: 0.3139\n",
            "Epoch 26/50\n",
            "\u001b[1m94/94\u001b[0m \u001b[32m━━━━━━━━━━━━━━━━━━━━\u001b[0m\u001b[37m\u001b[0m \u001b[1m10s\u001b[0m 83ms/step - accuracy: 0.8816 - loss: 0.3956 - val_accuracy: 0.9115 - val_loss: 0.2983\n",
            "Epoch 27/50\n",
            "\u001b[1m94/94\u001b[0m \u001b[32m━━━━━━━━━━━━━━━━━━━━\u001b[0m\u001b[37m\u001b[0m \u001b[1m11s\u001b[0m 88ms/step - accuracy: 0.8842 - loss: 0.3846 - val_accuracy: 0.9139 - val_loss: 0.2953\n",
            "Epoch 28/50\n",
            "\u001b[1m94/94\u001b[0m \u001b[32m━━━━━━━━━━━━━━━━━━━━\u001b[0m\u001b[37m\u001b[0m \u001b[1m9s\u001b[0m 94ms/step - accuracy: 0.8861 - loss: 0.3834 - val_accuracy: 0.9135 - val_loss: 0.2893\n",
            "Epoch 29/50\n",
            "\u001b[1m94/94\u001b[0m \u001b[32m━━━━━━━━━━━━━━━━━━━━\u001b[0m\u001b[37m\u001b[0m \u001b[1m8s\u001b[0m 90ms/step - accuracy: 0.8860 - loss: 0.3767 - val_accuracy: 0.9131 - val_loss: 0.3030\n",
            "Epoch 30/50\n",
            "\u001b[1m94/94\u001b[0m \u001b[32m━━━━━━━━━━━━━━━━━━━━\u001b[0m\u001b[37m\u001b[0m \u001b[1m8s\u001b[0m 85ms/step - accuracy: 0.8908 - loss: 0.3622 - val_accuracy: 0.9107 - val_loss: 0.3001\n",
            "Epoch 31/50\n",
            "\u001b[1m94/94\u001b[0m \u001b[32m━━━━━━━━━━━━━━━━━━━━\u001b[0m\u001b[37m\u001b[0m \u001b[1m11s\u001b[0m 93ms/step - accuracy: 0.8873 - loss: 0.3683 - val_accuracy: 0.9119 - val_loss: 0.2923\n",
            "Epoch 32/50\n",
            "\u001b[1m94/94\u001b[0m \u001b[32m━━━━━━━━━━━━━━━━━━━━\u001b[0m\u001b[37m\u001b[0m \u001b[1m10s\u001b[0m 92ms/step - accuracy: 0.8902 - loss: 0.3559 - val_accuracy: 0.9087 - val_loss: 0.2973\n",
            "Epoch 33/50\n",
            "\u001b[1m94/94\u001b[0m \u001b[32m━━━━━━━━━━━━━━━━━━━━\u001b[0m\u001b[37m\u001b[0m \u001b[1m10s\u001b[0m 92ms/step - accuracy: 0.8925 - loss: 0.3622 - val_accuracy: 0.9107 - val_loss: 0.2904\n",
            "Epoch 34/50\n",
            "\u001b[1m94/94\u001b[0m \u001b[32m━━━━━━━━━━━━━━━━━━━━\u001b[0m\u001b[37m\u001b[0m \u001b[1m10s\u001b[0m 88ms/step - accuracy: 0.8912 - loss: 0.3525 - val_accuracy: 0.9174 - val_loss: 0.2864\n",
            "Epoch 35/50\n",
            "\u001b[1m94/94\u001b[0m \u001b[32m━━━━━━━━━━━━━━━━━━━━\u001b[0m\u001b[37m\u001b[0m \u001b[1m10s\u001b[0m 84ms/step - accuracy: 0.8901 - loss: 0.3603 - val_accuracy: 0.9107 - val_loss: 0.2872\n",
            "Epoch 36/50\n",
            "\u001b[1m94/94\u001b[0m \u001b[32m━━━━━━━━━━━━━━━━━━━━\u001b[0m\u001b[37m\u001b[0m \u001b[1m10s\u001b[0m 85ms/step - accuracy: 0.8937 - loss: 0.3475 - val_accuracy: 0.9111 - val_loss: 0.2916\n",
            "Epoch 37/50\n",
            "\u001b[1m94/94\u001b[0m \u001b[32m━━━━━━━━━━━━━━━━━━━━\u001b[0m\u001b[37m\u001b[0m \u001b[1m11s\u001b[0m 93ms/step - accuracy: 0.8945 - loss: 0.3480 - val_accuracy: 0.9182 - val_loss: 0.2876\n",
            "Epoch 38/50\n",
            "\u001b[1m94/94\u001b[0m \u001b[32m━━━━━━━━━━━━━━━━━━━━\u001b[0m\u001b[37m\u001b[0m \u001b[1m10s\u001b[0m 93ms/step - accuracy: 0.8962 - loss: 0.3356 - val_accuracy: 0.9162 - val_loss: 0.2822\n",
            "Epoch 39/50\n",
            "\u001b[1m94/94\u001b[0m \u001b[32m━━━━━━━━━━━━━━━━━━━━\u001b[0m\u001b[37m\u001b[0m \u001b[1m9s\u001b[0m 92ms/step - accuracy: 0.8945 - loss: 0.3403 - val_accuracy: 0.9087 - val_loss: 0.2940\n",
            "Epoch 40/50\n",
            "\u001b[1m94/94\u001b[0m \u001b[32m━━━━━━━━━━━━━━━━━━━━\u001b[0m\u001b[37m\u001b[0m \u001b[1m9s\u001b[0m 84ms/step - accuracy: 0.8975 - loss: 0.3325 - val_accuracy: 0.9158 - val_loss: 0.2930\n",
            "Epoch 41/50\n",
            "\u001b[1m94/94\u001b[0m \u001b[32m━━━━━━━━━━━━━━━━━━━━\u001b[0m\u001b[37m\u001b[0m \u001b[1m9s\u001b[0m 93ms/step - accuracy: 0.8980 - loss: 0.3366 - val_accuracy: 0.9139 - val_loss: 0.2991\n",
            "Epoch 42/50\n",
            "\u001b[1m94/94\u001b[0m \u001b[32m━━━━━━━━━━━━━━━━━━━━\u001b[0m\u001b[37m\u001b[0m \u001b[1m10s\u001b[0m 93ms/step - accuracy: 0.8968 - loss: 0.3315 - val_accuracy: 0.9123 - val_loss: 0.2914\n",
            "Epoch 43/50\n",
            "\u001b[1m94/94\u001b[0m \u001b[32m━━━━━━━━━━━━━━━━━━━━\u001b[0m\u001b[37m\u001b[0m \u001b[1m10s\u001b[0m 92ms/step - accuracy: 0.8967 - loss: 0.3348 - val_accuracy: 0.9095 - val_loss: 0.2926\n",
            "Epoch 44/50\n",
            "\u001b[1m94/94\u001b[0m \u001b[32m━━━━━━━━━━━━━━━━━━━━\u001b[0m\u001b[37m\u001b[0m \u001b[1m10s\u001b[0m 86ms/step - accuracy: 0.9008 - loss: 0.3194 - val_accuracy: 0.9127 - val_loss: 0.2887\n",
            "Epoch 45/50\n",
            "\u001b[1m94/94\u001b[0m \u001b[32m━━━━━━━━━━━━━━━━━━━━\u001b[0m\u001b[37m\u001b[0m \u001b[1m10s\u001b[0m 85ms/step - accuracy: 0.8995 - loss: 0.3222 - val_accuracy: 0.9135 - val_loss: 0.2859\n",
            "Epoch 46/50\n",
            "\u001b[1m94/94\u001b[0m \u001b[32m━━━━━━━━━━━━━━━━━━━━\u001b[0m\u001b[37m\u001b[0m \u001b[1m10s\u001b[0m 86ms/step - accuracy: 0.8998 - loss: 0.3272 - val_accuracy: 0.9131 - val_loss: 0.2898\n",
            "Epoch 47/50\n",
            "\u001b[1m94/94\u001b[0m \u001b[32m━━━━━━━━━━━━━━━━━━━━\u001b[0m\u001b[37m\u001b[0m \u001b[1m11s\u001b[0m 93ms/step - accuracy: 0.8995 - loss: 0.3227 - val_accuracy: 0.9146 - val_loss: 0.2784\n",
            "Epoch 48/50\n",
            "\u001b[1m94/94\u001b[0m \u001b[32m━━━━━━━━━━━━━━━━━━━━\u001b[0m\u001b[37m\u001b[0m \u001b[1m9s\u001b[0m 93ms/step - accuracy: 0.9027 - loss: 0.3099 - val_accuracy: 0.9150 - val_loss: 0.2786\n",
            "Epoch 49/50\n",
            "\u001b[1m94/94\u001b[0m \u001b[32m━━━━━━━━━━━━━━━━━━━━\u001b[0m\u001b[37m\u001b[0m \u001b[1m8s\u001b[0m 84ms/step - accuracy: 0.9032 - loss: 0.3119 - val_accuracy: 0.9123 - val_loss: 0.2791\n",
            "Epoch 50/50\n",
            "\u001b[1m94/94\u001b[0m \u001b[32m━━━━━━━━━━━━━━━━━━━━\u001b[0m\u001b[37m\u001b[0m \u001b[1m10s\u001b[0m 84ms/step - accuracy: 0.9059 - loss: 0.2985 - val_accuracy: 0.9154 - val_loss: 0.2829\n",
            "\u001b[1m1496/1496\u001b[0m \u001b[32m━━━━━━━━━━━━━━━━━━━━\u001b[0m\u001b[37m\u001b[0m \u001b[1m8s\u001b[0m 5ms/step\n",
            "\u001b[1m79/79\u001b[0m \u001b[32m━━━━━━━━━━━━━━━━━━━━\u001b[0m\u001b[37m\u001b[0m \u001b[1m1s\u001b[0m 6ms/step\n",
            "\u001b[1m1056/1056\u001b[0m \u001b[32m━━━━━━━━━━━━━━━━━━━━\u001b[0m\u001b[37m\u001b[0m \u001b[1m6s\u001b[0m 6ms/step\n",
            "Train accuract 0.9458781736495664\n",
            "Validation accuracy:  0.9154426359666534\n",
            "Test accuracy:  0.897450324261897\n",
            "Saved model to disk\n"
          ]
        }
      ],
      "source": [
        "history = train(model=model, X_data=tfidf_X_data_svd, y_data=y_data_one_hot, X_test=tfidf_X_test_svd, y_test=y_test_one_hot)"
      ]
    },
    {
      "cell_type": "markdown",
      "metadata": {
        "id": "WeKWUdTtw6oe"
      },
      "source": []
    },
    {
      "cell_type": "markdown",
      "source": [
        "#Đánh giá mô hình"
      ],
      "metadata": {
        "id": "0g4TDlGhansh"
      }
    },
    {
      "cell_type": "code",
      "source": [
        "from sklearn.metrics import classification_report, confusion_matrix\n",
        "import seaborn as sns\n",
        "import matplotlib.pyplot as plt # Also needed for plotting the confusion matrix"
      ],
      "metadata": {
        "id": "4_MgFTdVlWov"
      },
      "execution_count": 26,
      "outputs": []
    },
    {
      "cell_type": "code",
      "execution_count": null,
      "metadata": {
        "id": "hI11UARE_7XT"
      },
      "outputs": [],
      "source": [
        "import matplotlib.pyplot as plt\n",
        "\n",
        "def visualize(history):\n",
        "    plt.plot(history.history['accuracy'])\n",
        "    plt.plot(history.history['val_accuracy'])\n",
        "    plt.title('model accuracy')\n",
        "    plt.ylabel('accuracy')\n",
        "    plt.xlabel('epoch')\n",
        "    plt.legend(['train', 'val_acc'], loc='upper left')\n",
        "    plt.show()\n",
        "    # summarize history for loss\n",
        "    plt.plot(history.history['loss'])\n",
        "    plt.plot(history.history['val_loss'])\n",
        "    plt.title('model loss')\n",
        "    plt.ylabel('loss')\n",
        "    plt.xlabel('epoch')\n",
        "    plt.legend(['train', 'val'], loc='upper left')\n",
        "    plt.show()"
      ]
    },
    {
      "cell_type": "code",
      "execution_count": null,
      "metadata": {
        "id": "xPNIa6BNEY1f",
        "colab": {
          "base_uri": "https://localhost:8080/",
          "height": 927
        },
        "outputId": "7f58e04c-50dc-4f3e-c616-439e4fddc0ea"
      },
      "outputs": [
        {
          "output_type": "display_data",
          "data": {
            "text/plain": [
              "<Figure size 640x480 with 1 Axes>"
            ],
            "image/png": "[encoded data removed]"
          },
          "metadata": {}
        },
        {
          "output_type": "display_data",
          "data": {
            "text/plain": [
              "<Figure size 640x480 with 1 Axes>"
            ],
            "image/png": "[encoded data removed]"
          },
          "metadata": {}
        }
      ],
      "source": [
        "visualize(history)"
      ]
    },
    {
      "cell_type": "markdown",
      "source": [
        "Load lại mô hình và đánh giá mô hình\n"
      ],
      "metadata": {
        "id": "B5_eiFeRaxwU"
      }
    },
    {
      "cell_type": "code",
      "source": [
        "# --- Define paths ---\n",
        "base_drive_path_project = '/content/drive/MyDrive/vietnamese-text-classify-master/vietnamese-text-classify-master'\n",
        "base_drive_path_data = os.path.join(base_drive_path_project, 'data')\n",
        "base_drive_path_model = os.path.join(base_drive_path_project, 'model')\n",
        "stopwords_path_file = os.path.join(base_drive_path_data, 'vietnamese-stopwords-dash.txt')\n",
        "\n",
        "classes_path = os.path.join(base_drive_path_model, 'classes.npy')\n",
        "y_test_pkl_path = os.path.join(base_drive_path_data, 'y_test.pkl')\n",
        "model_json_path = os.path.join(base_drive_path_model, 'model.json')\n",
        "model_weights_path = os.path.join(base_drive_path_model, 'model.weights.h5')\n",
        "selector_path = os.path.join(base_drive_path_model, 'selector.pickle')\n",
        "vectorizer_path = os.path.join(base_drive_path_model, 'vectorizer.pickle')\n",
        "x_test_pkl_path = os.path.join(base_drive_path_data, 'x_test.pkl') # Contains X_test after ViTokenizer and simple_preprocess\n",
        "\n",
        "# --- Global Variables ---\n",
        "y_test_one_hot = None\n",
        "test_predictions_final = None\n",
        "encoder_classes_loaded = None\n",
        "model_loaded = None\n",
        "\n",
        "# --- Main Execution Function ---\n",
        "def main():\n",
        "    global y_test_one_hot, test_predictions_final, encoder_classes_loaded, model_loaded\n",
        "\n",
        "    try:\n",
        "        print(\"Bắt đầu quá trình...\")\n",
        "\n",
        "        print(\"\\nBước 1: Kiểm tra và tải các thành phần đã lưu...\")\n",
        "        if not os.path.exists(classes_path): raise FileNotFoundError(f\"Không tìm thấy tệp classes: {classes_path}\")\n",
        "        encoder_classes_loaded = np.load(classes_path, allow_pickle=True)\n",
        "        print(f\"  - Đã tải encoder_classes ({len(encoder_classes_loaded)} lớp).\")\n",
        "\n",
        "        if not os.path.exists(y_test_pkl_path): raise FileNotFoundError(f\"Không tìm thấy tệp y_test_pkl: {y_test_pkl_path}\")\n",
        "        with open(y_test_pkl_path, 'rb') as f:\n",
        "            y_test_raw = pickle.load(f)\n",
        "        encoder = preprocessing.LabelEncoder()\n",
        "        encoder.classes_ = encoder_classes_loaded\n",
        "        y_test_one_hot = encoder.transform(y_test_raw)\n",
        "        print(f\"  - Đã tải y_test và tạo y_test_one_hot (số lượng: {len(y_test_one_hot)}).\")\n",
        "\n",
        "        if not os.path.exists(model_json_path): raise FileNotFoundError(f\"Không tìm thấy tệp model_json: {model_json_path}\")\n",
        "        if not os.path.exists(model_weights_path): raise FileNotFoundError(f\"Không tìm thấy tệp model_weights: {model_weights_path}\")\n",
        "        with open(model_json_path, 'r') as json_file:\n",
        "            loaded_model_json = json_file.read()\n",
        "        model_loaded = model_from_json(loaded_model_json)\n",
        "        model_loaded.load_weights(model_weights_path)\n",
        "        print(\"  - Đã tải mô hình (cấu trúc và trọng số).\")\n",
        "\n",
        "        model_loaded.compile(optimizer='adam', loss='sparse_categorical_crossentropy', metrics=['accuracy'])\n",
        "        print(\"  - Đã compile mô hình.\")\n",
        "        print(f\"  - Đã tải stopwords ({len(stopwords)} từ).\")\n",
        "        print(\"\\n Tiền xử lý dữ liệu X_test...\")\n",
        "        print(f\"  - Đã hoàn thành TF-IDF và SVD (shape: {tfidf_X_test_svd.shape}).\")\n",
        "        print(\"\\n Thực hiện dự đoán...\")\n",
        "        predictions_probabilities = model_loaded.predict(tfidf_X_test_svd)\n",
        "        test_predictions_final = np.argmax(predictions_probabilities, axis=-1)\n",
        "        print(f\"  - Đã tạo dự đoán (số lượng: {len(test_predictions_final)}).\")\n",
        "\n",
        "        print(\"\\n Tạo báo cáo phân loại (Classification Report)...\")\n",
        "        report = classification_report(y_test_one_hot, test_predictions_final, target_names=encoder_classes_loaded, digits=4)\n",
        "        print(report)\n",
        "        # Uncomment to save report to a file\n",
        "        with open(\"classification_report.txt\", \"w\", encoding=\"utf-8\") as f:\n",
        "            f.write(report)\n",
        "        print(\"  - Báo cáo phân loại đã được lưu vào classification_report.txt\")\n",
        "        print(\"\\n Tính toán và vẽ ma trận nhầm lẫn...\")\n",
        "        cm = confusion_matrix(y_test_one_hot, test_predictions_final)\n",
        "        plt.figure(figsize=(12, 10))\n",
        "        sns.heatmap(cm, annot=True, fmt=\"d\", cmap=\"Blues\",\n",
        "                    xticklabels=encoder_classes_loaded, yticklabels=encoder_classes_loaded)\n",
        "        plt.title('Confusion Matrix for Test Set')\n",
        "        plt.ylabel('Actual Labels')\n",
        "        plt.xlabel('Predicted Labels')\n",
        "        plt.xticks(rotation=45, ha='right')\n",
        "        plt.yticks(rotation=0)\n",
        "        plt.tight_layout()\n",
        "\n",
        "        plt.savefig('confusion_matrix.png')\n",
        "        print(\"  - Ma trận nhầm lẫn ĐÃ ĐƯỢC VẼ và lưu thành 'confusion_matrix.png'\")\n",
        "        plt.show()\n",
        "    finally:\n",
        "        print(\"\\nHoàn tất thực thi script.\")"
      ],
      "metadata": {
        "id": "aCR2g2AVmJJD"
      },
      "execution_count": 23,
      "outputs": []
    },
    {
      "cell_type": "markdown",
      "source": [
        "Load lại mô hình cho việc dự đoán câu văn"
      ],
      "metadata": {
        "id": "XaBm1dGONKdF"
      }
    },
    {
      "cell_type": "code",
      "source": [
        "# --- Định nghĩa đường dẫn ---\n",
        "base_drive_path_project = '/content/drive/MyDrive/vietnamese-text-classify-master/vietnamese-text-classify-master'\n",
        "base_drive_path_data = os.path.join(base_drive_path_project, 'data')\n",
        "base_drive_path_model = os.path.join(base_drive_path_project, 'model')\n",
        "stopwords_path_file = os.path.join(base_drive_path_data, 'vietnamese-stopwords-dash.txt')\n",
        "\n",
        "classes_path = os.path.join(base_drive_path_model, 'classes.npy')\n",
        "model_json_path = os.path.join(base_drive_path_model, 'model.json')\n",
        "model_weights_path = os.path.join(base_drive_path_model, 'model.weights.h5')\n",
        "selector_path = os.path.join(base_drive_path_model, 'selector.pickle')\n",
        "vectorizer_path = os.path.join(base_drive_path_model, 'vectorizer.pickle')\n",
        "\n",
        "# --- Biến toàn cục để lưu trữ các tài nguyên đã tải ---\n",
        "g_model_loaded = None\n",
        "g_tfidf_vect_loaded = None\n",
        "g_svd_loaded = None\n",
        "g_stopwords_loaded = None\n",
        "g_encoder_classes_loaded = None\n",
        "g_resources_are_loaded = False\n",
        "\n",
        "\n",
        "def load_all_resources():\n",
        "    \"\"\"\n",
        "    Tải tất cả các tài nguyên cần thiết (mô hình, vectorizer, SVD, stopwords, encoder_classes)\n",
        "    và lưu chúng vào các biến toàn cục.\n",
        "    \"\"\"\n",
        "    global g_model_loaded, g_tfidf_vect_loaded, g_svd_loaded, g_stopwords_loaded, g_encoder_classes_loaded, g_resources_are_loaded\n",
        "    if not os.path.exists(classes_path): raise FileNotFoundError(f\"Không tìm thấy tệp classes: {classes_path}\")\n",
        "    g_encoder_classes_loaded = np.load(classes_path, allow_pickle=True)\n",
        "    print(f\"  - Đã tải encoder_classes ({len(g_encoder_classes_loaded)} lớp).\")\n",
        "\n",
        "    with open(model_json_path, 'r') as json_file:\n",
        "        loaded_model_json = json_file.read()\n",
        "    g_model_loaded = model_from_json(loaded_model_json)\n",
        "    g_model_loaded.load_weights(model_weights_path)\n",
        "    print(\"  - Đã tải mô hình (cấu trúc và trọng số).\")\n",
        "    g_model_loaded.compile(optimizer='adam', loss='sparse_categorical_crossentropy', metrics=['accuracy'])\n",
        "    print(\"  - Đã compile mô hình.\")\n",
        "\n",
        "    if not os.path.exists(vectorizer_path): raise FileNotFoundError(f\"Không tìm thấy tệp vectorizer: {vectorizer_path}\")\n",
        "    with open(vectorizer_path, 'rb') as f:\n",
        "        g_tfidf_vect_loaded = pickle.load(f)\n",
        "    print(\"  - Đã tải TfidfVectorizer.\")\n",
        "\n",
        "    if not os.path.exists(selector_path): raise FileNotFoundError(f\"Không tìm thấy tệp selector: {selector_path}\")\n",
        "    with open(selector_path, 'rb') as f:\n",
        "        g_svd_loaded = pickle.load(f)\n",
        "    print(\"  - Đã tải TruncatedSVD (selector).\")\n",
        "\n",
        "    if not os.path.exists(stopwords_path_file): raise FileNotFoundError(f\"Không tìm thấy tệp stopwords: {stopwords_path_file}\")\n",
        "    with open(stopwords_path_file, 'r', encoding='utf-8') as f:\n",
        "        g_stopwords_loaded = set([w.strip() for w in f.readlines()])\n",
        "    print(f\"  - Đã tải stopwords ({len(g_stopwords_loaded)} từ).\")\n",
        "\n",
        "    g_resources_are_loaded = True\n",
        "    print(\"Tất cả tài nguyên đã được tải và sẵn sàng.\")\n",
        "    return True\n",
        "\n",
        "\n",
        "def preprocess_text_for_prediction(raw_text):\n",
        "    \"\"\"\n",
        "    Tiền xử lý một câu văn thô cho việc dự đoán.\n",
        "    \"\"\"\n",
        "    if not g_resources_are_loaded or g_stopwords_loaded is None:\n",
        "        print(\"Lỗi: Stopwords chưa được tải. Hãy gọi load_all_resources() trước.\")\n",
        "        return None\n",
        "\n",
        "    processed_text = gensim.utils.simple_preprocess(raw_text)\n",
        "    processed_text = ' '.join(processed_text)\n",
        "    processed_text = ViTokenizer.tokenize(processed_text)\n",
        "\n",
        "    try:\n",
        "        split_words = [x.strip('0123456789%@$.,=+-!;/()*\"&^:#|\\n\\t\\'').lower() for x in processed_text.split()]\n",
        "    except TypeError:\n",
        "        split_words = []\n",
        "\n",
        "    final_processed_text = ' '.join([word for word in split_words if word not in g_stopwords_loaded])\n",
        "    return final_processed_text\n",
        "\n",
        "\n",
        "def predict_topic_for_sentence(new_sentence):\n",
        "    \"\"\"\n",
        "    Dự đoán chủ đề cho một câu văn mới.\n",
        "    \"\"\"\n",
        "    global g_model_loaded, g_tfidf_vect_loaded, g_svd_loaded, g_encoder_classes_loaded, g_resources_are_loaded\n",
        "\n",
        "    if not g_resources_are_loaded:\n",
        "        print(\"Tài nguyên chưa được tải. Đang thử tải tự động...\")\n",
        "        if not load_all_resources():\n",
        "            print(\"Không thể tải tài nguyên. Không thể thực hiện dự đoán.\")\n",
        "            return None, None\n",
        "\n",
        "    if g_model_loaded is None or \\\n",
        "       g_tfidf_vect_loaded is None or \\\n",
        "       g_svd_loaded is None or \\\n",
        "       g_encoder_classes_loaded is None:\n",
        "        print(\"Lỗi: Một hoặc nhiều tài nguyên cần thiết chưa được tải đúng cách.\")\n",
        "        return None, None\n",
        "\n",
        "    print(f\"\\nCâu văn gốc: '{new_sentence}'\")\n",
        "    processed_sentence = preprocess_text_for_prediction(new_sentence)\n",
        "    if processed_sentence is None:\n",
        "        return None, None\n",
        "\n",
        "    print(f\"Câu văn đã xử lý: '{processed_sentence}'\")\n",
        "    if not processed_sentence.strip():\n",
        "        print(\"Câu văn trở nên rỗng sau khi tiền xử lý. Không thể dự đoán.\")\n",
        "        num_classes = len(g_encoder_classes_loaded)\n",
        "        dummy_probabilities = np.full(num_classes, 1/num_classes)\n",
        "        return \"Không xác định (văn bản rỗng)\", dummy_probabilities\n",
        "\n",
        "    tfidf_vector = g_tfidf_vect_loaded.transform([processed_sentence])\n",
        "    svd_vector = g_svd_loaded.transform(tfidf_vector)\n",
        "    prediction_probabilities = g_model_loaded.predict(svd_vector)\n",
        "    predicted_index = np.argmax(prediction_probabilities[0])\n",
        "    predicted_label = g_encoder_classes_loaded[predicted_index]\n",
        "\n",
        "    print(f\"Chủ đề dự đoán: {predicted_label}\")\n",
        "    print(f\"Xác suất dự đoán cho các lớp: {prediction_probabilities[0]}\")\n",
        "\n",
        "    return predicted_label, prediction_probabilities[0]\n",
        "if load_all_resources():\n",
        "    print(\"\\nĐã sẵn sàng nhận câu văn để dự đoán!\")\n",
        "else:\n",
        "    print(\"\\nCó lỗi xảy ra khi tải tài nguyên, vui lòng kiểm tra.\")"
      ],
      "metadata": {
        "colab": {
          "base_uri": "https://localhost:8080/"
        },
        "id": "FW0ks7mauCzS",
        "outputId": "21c4c384-e7ab-4063-e7dc-91466f1e727e"
      },
      "execution_count": 27,
      "outputs": [
        {
          "output_type": "stream",
          "name": "stdout",
          "text": [
            "  - Đã tải encoder_classes (10 lớp).\n",
            "  - Đã tải mô hình (cấu trúc và trọng số).\n",
            "  - Đã compile mô hình.\n",
            "  - Đã tải TfidfVectorizer.\n",
            "  - Đã tải TruncatedSVD (selector).\n",
            "  - Đã tải stopwords (1942 từ).\n",
            "Tất cả tài nguyên đã được tải và sẵn sàng.\n",
            "\n",
            "Đã sẵn sàng nhận câu văn để dự đoán!\n"
          ]
        }
      ]
    },
    {
      "cell_type": "code",
      "source": [
        "if __name__ == \"__main__\":\n",
        "    main()"
      ],
      "metadata": {
        "colab": {
          "base_uri": "https://localhost:8080/",
          "height": 1000
        },
        "id": "P1wLiiAHnlVx",
        "outputId": "7a4572a2-b542-42c2-9a6e-609abf83536e"
      },
      "execution_count": 28,
      "outputs": [
        {
          "output_type": "stream",
          "name": "stdout",
          "text": [
            "Bắt đầu quá trình...\n",
            "\n",
            "Bước 1: Kiểm tra và tải các thành phần đã lưu...\n",
            "  - Đã tải encoder_classes (10 lớp).\n",
            "  - Đã tải y_test và tạo y_test_one_hot (số lượng: 33769).\n",
            "  - Đã tải mô hình (cấu trúc và trọng số).\n",
            "  - Đã compile mô hình.\n",
            "  - Đã tải stopwords (1942 từ).\n",
            "\n",
            " Tiền xử lý dữ liệu X_test...\n",
            "  - Đã hoàn thành TF-IDF và SVD (shape: (33769, 500)).\n",
            "\n",
            " Thực hiện dự đoán...\n",
            "\u001b[1m1056/1056\u001b[0m \u001b[32m━━━━━━━━━━━━━━━━━━━━\u001b[0m\u001b[37m\u001b[0m \u001b[1m15s\u001b[0m 14ms/step\n",
            "  - Đã tạo dự đoán (số lượng: 33769).\n",
            "\n",
            " Tạo báo cáo phân loại (Classification Report)...\n",
            "                  precision    recall  f1-score   support\n",
            "\n",
            "Chinh tri Xa hoi     0.8557    0.8191    0.8370      5219\n",
            "        Doi song     0.8317    0.8528    0.8421      3159\n",
            "        Khoa hoc     0.8405    0.7874    0.8130      1820\n",
            "      Kinh doanh     0.8222    0.9259    0.8710      2552\n",
            "       Phap luat     0.9594    0.8555    0.9045      3868\n",
            "        Suc khoe     0.8846    0.9427    0.9127      3384\n",
            "        The gioi     0.9091    0.9110    0.9100      2898\n",
            "        The thao     0.9737    0.9857    0.9796      5298\n",
            "         Van hoa     0.9118    0.9333    0.9224      3090\n",
            "         Vi tinh     0.9296    0.9254    0.9275      2481\n",
            "\n",
            "        accuracy                         0.8975     33769\n",
            "       macro avg     0.8918    0.8939    0.8920     33769\n",
            "    weighted avg     0.8985    0.8975    0.8972     33769\n",
            "\n",
            "  - Báo cáo phân loại đã được lưu vào classification_report.txt\n",
            "\n",
            " Tính toán và vẽ ma trận nhầm lẫn...\n",
            "  - Ma trận nhầm lẫn ĐÃ ĐƯỢC VẼ và lưu thành 'confusion_matrix.png'\n"
          ]
        },
        {
          "output_type": "display_data",
          "data": {
            "text/plain": [
              "<Figure size 1200x1000 with 2 Axes>"
            ],
            "image/png": "[encoded data removed]"
          },
          "metadata": {}
        },
        {
          "output_type": "stream",
          "name": "stdout",
          "text": [
            "\n",
            "Hoàn tất thực thi script.\n"
          ]
        }
      ]
    },
    {
      "cell_type": "code",
      "source": [
        "# Về tổ chức bộ máy, Ban Thường trực Ủy ban Trung ương MTTQ Việt Nam (gồm chủ tịch, phó chủ tịch - tổng thư ký, các phó chủ tịch chuyên trách) giữ vai trò lãnh đạo, chỉ đạo toàn diện về định hướng hoạt động, quản lý bộ máy giúp việc, công tác tổ chức cán bộ, quản lý tài sản, tài chính.\n",
        "# Buổi chiều cuối tuần, cả gia đình tôi thường quây quần bên mâm cơm, kể cho nhau nghe những câu chuyện vui buồn trong tuần.\n",
        "# Song, các phương pháp đo truyền thống (sử dụng thước dây, bánh xe đo cơ học hoặc các phương pháp đo lường thủ công khác) có nhiều nhược điểm như: độ chính xác chưa cao, dễ bị ảnh hưởng bởi yếu tố môi trường hoặc thao tác người đo, thiếu khả năng lưu trữ và xử lý dữ liệu tự động.\n",
        "# Tính tới giữa năm 2017, bà Diệp sở hữu 20,2 triệu cổ phiếu ROS của CTCP Xây dựng FLC Faros (tương đương 4,7%), có tổng giá trị khoảng 3.400 tỷ đồng, lọt top 10 người phụ nữ giàu nhất sàn chứng khoán.\n",
        "# Ông từng giành giải Thiết kế mỹ thuật xuất sắc nhất tại Liên hoan phim Việt Nam 1988 cho phim Hoàng Hoa Thám và liên tục thắng giải Cánh diều các năm 2005-2007 và 2013 cho Thiết kế mỹ thuật xuất sắc.\n",
        "\n",
        "\n",
        "\n",
        "cau_cua_ban = \"Phó Bí thư Quân ủy Trung ương là chức danh của lãnh đạo thứ hai cơ quan lãnh đạo của Đảng Cộng sản Việt Nam trong Quân đội nhân dân Việt Nam\"\n",
        "chu_de_du_doan, xac_suat = predict_topic_for_sentence(cau_cua_ban)\n",
        "\n",
        "# ------------------------------------------------------------------#"
      ],
      "metadata": {
        "colab": {
          "base_uri": "https://localhost:8080/"
        },
        "id": "K1oZuBLjuIm_",
        "outputId": "b5d3bb29-ac0d-4e45-957f-0f90de3f8222"
      },
      "execution_count": 34,
      "outputs": [
        {
          "output_type": "stream",
          "name": "stdout",
          "text": [
            "\n",
            "Câu văn gốc: 'Phó Bí thư Quân ủy Trung ương là chức danh của lãnh đạo thứ hai cơ quan lãnh đạo của Đảng Cộng sản Việt Nam trong Quân đội nhân dân Việt Nam'\n",
            "Câu văn đã xử lý: 'phó bí_thư quân_ủy trung_ương chức_danh lãnh_đạo hai cơ_quan lãnh_đạo đảng cộng_sản việt_nam quân_đội nhân_dân việt_nam'\n",
            "\u001b[1m1/1\u001b[0m \u001b[32m━━━━━━━━━━━━━━━━━━━━\u001b[0m\u001b[37m\u001b[0m \u001b[1m0s\u001b[0m 50ms/step\n",
            "Chủ đề dự đoán: Chinh tri Xa hoi\n",
            "Xác suất dự đoán cho các lớp: [9.9542469e-01 3.1571130e-05 5.5132066e-05 8.2157785e-04 2.9613734e-03\n",
            " 2.4211711e-05 5.6863052e-04 2.9448838e-05 5.7520392e-05 2.5805673e-05]\n"
          ]
        }
      ]
    }
  ],
  "metadata": {
    "colab": {
      "provenance": []
    },
    "kernelspec": {
      "display_name": "Python 3",
      "name": "python3"
    }
  },
  "nbformat": 4,
  "nbformat_minor": 0
}